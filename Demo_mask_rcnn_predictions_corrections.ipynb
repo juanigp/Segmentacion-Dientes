{
  "nbformat": 4,
  "nbformat_minor": 0,
  "metadata": {
    "colab": {
      "name": "Untitled9.ipynb",
      "provenance": [],
      "collapsed_sections": [],
      "toc_visible": true,
      "authorship_tag": "ABX9TyNSBugc8awt0EgwtyJPYZek",
      "include_colab_link": true
    },
    "kernelspec": {
      "name": "python3",
      "display_name": "Python 3"
    },
    "accelerator": "GPU"
  },
  "cells": [
    {
      "cell_type": "markdown",
      "metadata": {
        "id": "view-in-github",
        "colab_type": "text"
      },
      "source": [
        "<a href=\"https://colab.research.google.com/github/SnoopiACK/DientesMask/blob/master/Demo_mask_rcnn_predictions_corrections.ipynb\" target=\"_parent\"><img src=\"https://colab.research.google.com/assets/colab-badge.svg\" alt=\"Open In Colab\"/></a>"
      ]
    },
    {
      "cell_type": "markdown",
      "metadata": {
        "id": "CWyd83_PedgD",
        "colab_type": "text"
      },
      "source": [
        "#MaskRCNN + template matching\n",
        "## Descarga de dependencias, imports, clonar repo, abrir gdrive\n"
      ]
    },
    {
      "cell_type": "code",
      "metadata": {
        "id": "H7wn7n5chtKG",
        "colab_type": "code",
        "colab": {}
      },
      "source": [
        "# install dependencies: (use cu100 because colab is on CUDA 10.0)\n",
        "!pip install -U torch==1.4+cu100 torchvision==0.5+cu100 -f https://download.pytorch.org/whl/torch_stable.html \n",
        "!pip install cython pyyaml==5.1\n",
        "!pip install -U 'git+https://github.com/cocodataset/cocoapi.git#subdirectory=PythonAPI'\n",
        "!pip install detectron2 -f https://dl.fbaipublicfiles.com/detectron2/wheels/cu100/index.html\n"
      ],
      "execution_count": 0,
      "outputs": []
    },
    {
      "cell_type": "code",
      "metadata": {
        "id": "jJM12YOtB8ti",
        "colab_type": "code",
        "colab": {}
      },
      "source": [
        "#cloning repo\n",
        "repo_url = 'https://github.com/SnoopiACK/DientesMask'\n",
        "!git clone {repo_url}"
      ],
      "execution_count": 0,
      "outputs": []
    },
    {
      "cell_type": "code",
      "metadata": {
        "id": "A7kTAT_ZeP3_",
        "colab_type": "code",
        "colab": {}
      },
      "source": [
        "#imports\n",
        "import os\n",
        "from google.colab import drive\n",
        "from detectron2.data import MetadataCatalog\n",
        "\n",
        "repo_dir_path = os.path.basename(repo_url)\n",
        "%cd {repo_dir_path}\n",
        "from utils import  make_maskrcnn_predictor, predict_image, visualize_predictions, correct_labels, open_image"
      ],
      "execution_count": 0,
      "outputs": []
    },
    {
      "cell_type": "code",
      "metadata": {
        "id": "MoAIvVBie4a9",
        "colab_type": "code",
        "colab": {}
      },
      "source": [
        "#mount drive\n",
        "drive.mount('/gdrive', force_remount = True)"
      ],
      "execution_count": 0,
      "outputs": []
    },
    {
      "cell_type": "code",
      "metadata": {
        "id": "7eSn90j2TG6C",
        "colab_type": "code",
        "colab": {}
      },
      "source": [
        "#set MetadataCatalog (used in visualization)\n",
        "teeth_classes=[\"M\",\"P\",\"C\",\"I\"]\n",
        "MetadataCatalog.get(\"teeth_types\").set(thing_classes=teeth_classes)\n",
        "dataset_metadata_1 = MetadataCatalog.get(\"teeth_types\")\n",
        "\n",
        "teeth_numbers = [\"18\",\"17\",\"16\",\"15\",\"14\",\"13\",\"12\",\"11\",\"21\",\"22\",\"23\",\"24\",\"25\",\"26\",\"27\",\"28\",\\\n",
        "                 \"48\",\"47\",\"46\",\"45\",\"44\",\"43\",\"42\",\"41\",\"31\",\"32\",\"33\",\"34\",\"35\",\"36\",\"37\",\"38\"]\n",
        "MetadataCatalog.get(\"teeth_numbers\").set(thing_classes=teeth_numbers)\n",
        "dataset_metadata_2 = MetadataCatalog.get(\"teeth_numbers\")"
      ],
      "execution_count": 0,
      "outputs": []
    },
    {
      "cell_type": "markdown",
      "metadata": {
        "id": "YSOzRe2aDo8F",
        "colab_type": "text"
      },
      "source": [
        "## Cargar modelo y predecir clases"
      ]
    },
    {
      "cell_type": "code",
      "metadata": {
        "id": "MPgerpe6jIM_",
        "colab_type": "code",
        "colab": {}
      },
      "source": [
        "img_path = \"data/imagenes para segmentar/SUAREZ_AGUSTIN_18102018_123944.jpg\"\n",
        "model_path = r\"/gdrive/My Drive/models/mask_rcnn/model_final.pth\"\n",
        "num_classes = 4\n",
        "th = 0.5\n",
        "\n",
        "#cargar modelo\n",
        "predictor = make_maskrcnn_predictor(model_path, num_classes, th)\n",
        "#abrir imagen\n",
        "img = open_image(img_path)\n",
        "#predecir imagen\n",
        "predictions = predict_image(img, predictor)\n",
        "#viz\n",
        "visualize_predictions(img, predictions, dataset_metadata_1)"
      ],
      "execution_count": 0,
      "outputs": []
    },
    {
      "cell_type": "markdown",
      "metadata": {
        "id": "uYI2S1BRDvkX",
        "colab_type": "text"
      },
      "source": [
        "## Corregir el etiquetado"
      ]
    },
    {
      "cell_type": "code",
      "metadata": {
        "id": "OOFoLvoD59bC",
        "colab_type": "code",
        "colab": {}
      },
      "source": [
        "predictions = correct_labels(predictions)\n",
        "visualize_predictions(img, predictions, dataset_metadata_2)"
      ],
      "execution_count": 0,
      "outputs": []
    }
  ]
}