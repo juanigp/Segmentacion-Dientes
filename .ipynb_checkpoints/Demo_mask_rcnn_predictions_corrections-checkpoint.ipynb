{
 "cells": [
  {
   "cell_type": "markdown",
   "metadata": {
    "colab_type": "text",
    "id": "view-in-github"
   },
   "source": [
    "<a href=\"https://colab.research.google.com/github/SnoopiACK/DientesMask/blob/master/Demo_mask_rcnn_predictions_corrections.ipynb\" target=\"_parent\"><img src=\"https://colab.research.google.com/assets/colab-badge.svg\" alt=\"Open In Colab\"/></a>"
   ]
  },
  {
   "cell_type": "markdown",
   "metadata": {
    "colab_type": "text",
    "id": "CWyd83_PedgD"
   },
   "source": [
    "#MaskRCNN + template matching\n",
    "## Descarga de dependencias, imports, clonar repo, abrir gdrive\n"
   ]
  },
  {
   "cell_type": "code",
   "execution_count": 0,
   "metadata": {
    "colab": {},
    "colab_type": "code",
    "id": "H7wn7n5chtKG"
   },
   "outputs": [],
   "source": [
    "# install dependencies: (use cu100 because colab is on CUDA 10.0)\n",
    "!pip install -U torch==1.4+cu100 torchvision==0.5+cu100 -f https://download.pytorch.org/whl/torch_stable.html \n",
    "!pip install cython pyyaml==5.1\n",
    "!pip install -U 'git+https://github.com/cocodataset/cocoapi.git#subdirectory=PythonAPI'\n",
    "!pip install detectron2 -f https://dl.fbaipublicfiles.com/detectron2/wheels/cu100/index.html\n"
   ]
  },
  {
   "cell_type": "code",
   "execution_count": 0,
   "metadata": {
    "colab": {},
    "colab_type": "code",
    "id": "jJM12YOtB8ti"
   },
   "outputs": [],
   "source": [
    "#cloning repo\n",
    "repo_url = 'https://github.com/juanigp/Segmentacion-Dientes'\n",
    "!git clone {repo_url}"
   ]
  },
  {
   "cell_type": "code",
   "execution_count": 0,
   "metadata": {
    "colab": {},
    "colab_type": "code",
    "id": "A7kTAT_ZeP3_"
   },
   "outputs": [],
   "source": [
    "#imports\n",
    "import os\n",
    "from google.colab import drive\n",
    "from detectron2.data import MetadataCatalog\n",
    "\n",
    "repo_dir_path = os.path.basename(repo_url)\n",
    "%cd {repo_dir_path}\n",
    "from utils import  make_maskrcnn_predictor, predict_image, visualize_predictions, correct_labels, open_image"
   ]
  },
  {
   "cell_type": "code",
   "execution_count": 0,
   "metadata": {
    "colab": {},
    "colab_type": "code",
    "id": "MoAIvVBie4a9"
   },
   "outputs": [],
   "source": [
    "#mount drive\n",
    "drive.mount('/gdrive', force_remount = True)"
   ]
  },
  {
   "cell_type": "code",
   "execution_count": 0,
   "metadata": {
    "colab": {},
    "colab_type": "code",
    "id": "7eSn90j2TG6C"
   },
   "outputs": [],
   "source": [
    "#set MetadataCatalog (used in visualization)\n",
    "teeth_classes=[\"M\",\"P\",\"C\",\"I\"]\n",
    "MetadataCatalog.get(\"teeth_types\").set(thing_classes=teeth_classes)\n",
    "dataset_metadata_1 = MetadataCatalog.get(\"teeth_types\")\n",
    "\n",
    "teeth_numbers = [\"18\",\"17\",\"16\",\"15\",\"14\",\"13\",\"12\",\"11\",\"21\",\"22\",\"23\",\"24\",\"25\",\"26\",\"27\",\"28\",\\\n",
    "                 \"48\",\"47\",\"46\",\"45\",\"44\",\"43\",\"42\",\"41\",\"31\",\"32\",\"33\",\"34\",\"35\",\"36\",\"37\",\"38\"]\n",
    "MetadataCatalog.get(\"teeth_numbers\").set(thing_classes=teeth_numbers)\n",
    "dataset_metadata_2 = MetadataCatalog.get(\"teeth_numbers\")"
   ]
  },
  {
   "cell_type": "markdown",
   "metadata": {
    "colab_type": "text",
    "id": "YSOzRe2aDo8F"
   },
   "source": [
    "## Cargar modelo y predecir clases"
   ]
  },
  {
   "cell_type": "code",
   "execution_count": 0,
   "metadata": {
    "colab": {},
    "colab_type": "code",
    "id": "MPgerpe6jIM_"
   },
   "outputs": [],
   "source": [
    "img_path = \"data/imagenes para segmentar/ejemplo.jpg\"\n",
    "model_path = r\"/gdrive/My Drive/models/mask_rcnn/model_final.pth\"\n",
    "num_classes = 4\n",
    "th = 0.5\n",
    "\n",
    "#cargar modelo\n",
    "predictor = make_maskrcnn_predictor(model_path, num_classes, th)\n",
    "#abrir imagen\n",
    "img = open_image(img_path)\n",
    "#predecir imagen\n",
    "predictions = predict_image(img, predictor)\n",
    "#viz\n",
    "visualize_predictions(img, predictions, dataset_metadata_1)"
   ]
  },
  {
   "cell_type": "markdown",
   "metadata": {
    "colab_type": "text",
    "id": "uYI2S1BRDvkX"
   },
   "source": [
    "## Corregir el etiquetado"
   ]
  },
  {
   "cell_type": "code",
   "execution_count": 0,
   "metadata": {
    "colab": {},
    "colab_type": "code",
    "id": "OOFoLvoD59bC"
   },
   "outputs": [],
   "source": [
    "predictions = correct_labels(predictions)\n",
    "visualize_predictions(img, predictions, dataset_metadata_2)"
   ]
  }
 ],
 "metadata": {
  "accelerator": "GPU",
  "colab": {
   "authorship_tag": "ABX9TyNSBugc8awt0EgwtyJPYZek",
   "collapsed_sections": [],
   "include_colab_link": true,
   "name": "Untitled9.ipynb",
   "provenance": [],
   "toc_visible": true
  },
  "kernelspec": {
   "display_name": "Python 3",
   "language": "python",
   "name": "python3"
  },
  "language_info": {
   "codemirror_mode": {
    "name": "ipython",
    "version": 3
   },
   "file_extension": ".py",
   "mimetype": "text/x-python",
   "name": "python",
   "nbconvert_exporter": "python",
   "pygments_lexer": "ipython3",
   "version": "3.8.8"
  }
 },
 "nbformat": 4,
 "nbformat_minor": 1
}
