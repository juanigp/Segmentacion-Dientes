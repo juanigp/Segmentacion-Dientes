{
  "nbformat": 4,
  "nbformat_minor": 0,
  "metadata": {
    "colab": {
      "name": "Untitled10.ipynb",
      "provenance": [],
      "collapsed_sections": [],
      "authorship_tag": "ABX9TyObVU+XnWOW1NV1oVZi8vlv",
      "include_colab_link": true
    },
    "kernelspec": {
      "name": "python3",
      "display_name": "Python 3"
    },
    "accelerator": "GPU"
  },
  "cells": [
    {
      "cell_type": "markdown",
      "metadata": {
        "id": "view-in-github",
        "colab_type": "text"
      },
      "source": [
        "<a href=\"https://colab.research.google.com/github/SnoopiACK/DientesMask/blob/master/Automatic_annotation_of_new_images.ipynb\" target=\"_parent\"><img src=\"https://colab.research.google.com/assets/colab-badge.svg\" alt=\"Open In Colab\"/></a>"
      ]
    },
    {
      "cell_type": "markdown",
      "metadata": {
        "id": "WKNvzPAQXP7_",
        "colab_type": "text"
      },
      "source": [
        "# Anotación automática de imagenes usando Mask RCNN\n",
        "\n",
        "Descarga de dependencias, imports, clonar repo, abrir gdrive"
      ]
    },
    {
      "cell_type": "code",
      "metadata": {
        "id": "LWsnmI0RWB6V",
        "colab_type": "code",
        "colab": {}
      },
      "source": [
        "# install dependencies: (use cu100 because colab is on CUDA 10.0)\n",
        "!pip install -U torch==1.4+cu100 torchvision==0.5+cu100 -f https://download.pytorch.org/whl/torch_stable.html \n",
        "!pip install cython pyyaml==5.1\n",
        "!pip install -U 'git+https://github.com/cocodataset/cocoapi.git#subdirectory=PythonAPI'\n",
        "!pip install detectron2 -f https://dl.fbaipublicfiles.com/detectron2/wheels/cu100/index.html"
      ],
      "execution_count": 0,
      "outputs": []
    },
    {
      "cell_type": "code",
      "metadata": {
        "id": "HDf987AnXVSp",
        "colab_type": "code",
        "colab": {
          "base_uri": "https://localhost:8080/",
          "height": 164
        },
        "outputId": "499655de-7107-4061-d5d1-9b25a13eca49"
      },
      "source": [
        "#cloning repo\n",
        "repo_url = 'https://github.com/SnoopiACK/DientesMask'\n",
        "!git clone {repo_url}"
      ],
      "execution_count": 2,
      "outputs": [
        {
          "output_type": "stream",
          "text": [
            "Cloning into 'DientesMask'...\n",
            "remote: Enumerating objects: 193, done.\u001b[K\n",
            "remote: Counting objects: 100% (193/193), done.\u001b[K\n",
            "remote: Compressing objects: 100% (180/180), done.\u001b[K\n",
            "remote: Total 750 (delta 61), reused 100 (delta 13), pack-reused 557\u001b[K\n",
            "Receiving objects: 100% (750/750), 311.12 MiB | 13.64 MiB/s, done.\n",
            "Resolving deltas: 100% (249/249), done.\n",
            "Checking out files: 100% (488/488), done.\n"
          ],
          "name": "stdout"
        }
      ]
    },
    {
      "cell_type": "code",
      "metadata": {
        "id": "Nw7p8WAeXMpU",
        "colab_type": "code",
        "colab": {
          "base_uri": "https://localhost:8080/",
          "height": 35
        },
        "outputId": "857784c4-26c8-479a-9e61-2418ca3f3d73"
      },
      "source": [
        "#imports\n",
        "import os\n",
        "import numpy as np\n",
        "from google.colab import drive\n",
        "import torch\n",
        "\n",
        "repo_dir_path = os.path.basename(repo_url)\n",
        "%cd {repo_dir_path}\n",
        "from utils import  make_maskrcnn_predictor, predict_folder_and_make_jsons"
      ],
      "execution_count": 3,
      "outputs": [
        {
          "output_type": "stream",
          "text": [
            "/content/DientesMask\n"
          ],
          "name": "stdout"
        }
      ]
    },
    {
      "cell_type": "code",
      "metadata": {
        "id": "BQPbvmxkXXLV",
        "colab_type": "code",
        "colab": {
          "base_uri": "https://localhost:8080/",
          "height": 129
        },
        "outputId": "795d5be7-63fb-4790-c506-595f8dce1c2b"
      },
      "source": [
        "#mount drive\n",
        "drive.mount('/gdrive', force_remount = True)"
      ],
      "execution_count": 4,
      "outputs": [
        {
          "output_type": "stream",
          "text": [
            "Go to this URL in a browser: https://accounts.google.com/o/oauth2/auth?client_id=947318989803-6bn6qk8qdgf4n4g3pfee6491hc0brc4i.apps.googleusercontent.com&redirect_uri=urn%3aietf%3awg%3aoauth%3a2.0%3aoob&response_type=code&scope=email%20https%3a%2f%2fwww.googleapis.com%2fauth%2fdocs.test%20https%3a%2f%2fwww.googleapis.com%2fauth%2fdrive%20https%3a%2f%2fwww.googleapis.com%2fauth%2fdrive.photos.readonly%20https%3a%2f%2fwww.googleapis.com%2fauth%2fpeopleapi.readonly\n",
            "\n",
            "Enter your authorization code:\n",
            "··········\n",
            "Mounted at /gdrive\n"
          ],
          "name": "stdout"
        }
      ]
    },
    {
      "cell_type": "markdown",
      "metadata": {
        "id": "NaHcc1pacRR3",
        "colab_type": "text"
      },
      "source": [
        "## Seleccionar carpeta y procesar. Los resultados se zippean para poder descargarlos y corregirlos manualmente antes de subirlos a github"
      ]
    },
    {
      "cell_type": "code",
      "metadata": {
        "id": "1eKPpnlKZNcE",
        "colab_type": "code",
        "colab": {}
      },
      "source": [
        "#make predictor\n",
        "model_path = r\"/gdrive/My Drive/models/mask_rcnn/model_final.pth\"\n",
        "num_classes = 4\n",
        "th = 0.5\n",
        "predictor = make_maskrcnn_predictor(model_path, num_classes, th)\n",
        "\n",
        "#predict an entire folder\n",
        "folder_path = r\"data/imagenes\\ para\\ segmentar\"\n",
        "predict_folder_and_make_jsons(folder_path, predictor)\n",
        "#zip for downloading and processing in pc before uploading to the repo\n",
        "!zip -r /content/file.zip {folder_path}"
      ],
      "execution_count": 0,
      "outputs": []
    }
  ]
}